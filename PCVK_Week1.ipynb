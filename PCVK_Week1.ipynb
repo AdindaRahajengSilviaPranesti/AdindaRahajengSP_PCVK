{
  "nbformat": 4,
  "nbformat_minor": 0,
  "metadata": {
    "colab": {
      "provenance": [],
      "authorship_tag": "ABX9TyNtGT8AbQ+yHt+4ygkRzzbB",
      "include_colab_link": true
    },
    "kernelspec": {
      "name": "python3",
      "display_name": "Python 3"
    },
    "language_info": {
      "name": "python"
    }
  },
  "cells": [
    {
      "cell_type": "markdown",
      "metadata": {
        "id": "view-in-github",
        "colab_type": "text"
      },
      "source": [
        "<a href=\"https://colab.research.google.com/github/AdindaRahajengSilviaPranesti/AdindaRahajengSP_PCVK/blob/main/PCVK_Week1.ipynb\" target=\"_parent\"><img src=\"https://colab.research.google.com/assets/colab-badge.svg\" alt=\"Open In Colab\"/></a>"
      ]
    },
    {
      "cell_type": "markdown",
      "source": [
        "STEP 1"
      ],
      "metadata": {
        "id": "nkx9iM6DaBW0"
      }
    },
    {
      "cell_type": "code",
      "source": [
        "import numpy as np\n",
        "import pandas as pd\n",
        "import cv2 as cv\n",
        "from google.colab.patches import cv2_imshow #for image display\n",
        "from skimage import io\n",
        "from skimage import transform\n",
        "from PIL import Image\n",
        "import matplotlib.pylab as plt"
      ],
      "metadata": {
        "id": "ZWDlYD8fZ-ev"
      },
      "execution_count": null,
      "outputs": []
    },
    {
      "cell_type": "markdown",
      "source": [
        "STEP 2"
      ],
      "metadata": {
        "id": "FVnNNAjXaW0_"
      }
    },
    {
      "cell_type": "code",
      "source": [
        "# Creating list for saving url from several image\n",
        "urls = [\"https://iiif.lib.ncsu.edu/iiif/0052574/full/800,/0/default.jpg\",\n",
        "        \"https://iiif.lib.ncsu.edu/iiif/0016007/full/800,/0/default.jpg\",\n",
        "        \"https://placekitten.com/800/571\"]\n",
        "# read and display image\n",
        "# loop at every url image, several images can save in the list\n",
        "\n",
        "for url in urls:\n",
        "  image = io.imread(url)                             #read image\n",
        "  image = cv.resize(image, (0,0), fx=0.5, fy=0.5)    #resize image to half size\n",
        "  image_2 = cv.cvtColor(image,cv.COLOR_BGR2RGB)      #convert color to RGB\n",
        "  final_frame = cv.hconcat((image, image_2))         #concatenate image\n",
        "  cv2_imshow(final_frame)                            # show image\n",
        "  print('\\n')"
      ],
      "metadata": {
        "id": "ezrXVvCZaY7h"
      },
      "execution_count": null,
      "outputs": []
    },
    {
      "cell_type": "markdown",
      "source": [
        "STEP 3"
      ],
      "metadata": {
        "id": "67Zk8vFhac_n"
      }
    },
    {
      "cell_type": "code",
      "source": [
        "tinggi = image_2.shape[0]\n",
        "lebar = image_2.shape[1]\n",
        "print(\"resolusi image : tinggi x lebar = \",tinggi, \" x \",lebar)\n",
        "cv2_imshow(image_2)"
      ],
      "metadata": {
        "id": "TDTxHLilaec8"
      },
      "execution_count": null,
      "outputs": []
    },
    {
      "cell_type": "markdown",
      "source": [
        "STEP 4"
      ],
      "metadata": {
        "id": "LD34ks5-ahIZ"
      }
    },
    {
      "cell_type": "code",
      "source": [
        "image_2 = cv.cvtColor(image, cv.COLOR_BGR2RGB)\n",
        "image_3 = cv.cvtColor(image, cv.COLOR_BGR2RGB)\n",
        "\n",
        "#Creating horizontal line in the middle of image\n",
        "\n",
        "for y in range(lebar):\n",
        "  image_3[int((tinggi)/2),y] = [255,255,255]\n",
        "\n",
        "final_frame = cv.hconcat((image_2, image_3))\n",
        "cv2_imshow(final_frame)"
      ],
      "metadata": {
        "id": "YYGKNogCajWF"
      },
      "execution_count": null,
      "outputs": []
    }
  ]
}