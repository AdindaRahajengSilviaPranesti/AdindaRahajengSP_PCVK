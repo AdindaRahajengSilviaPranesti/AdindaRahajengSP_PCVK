{
  "nbformat": 4,
  "nbformat_minor": 0,
  "metadata": {
    "colab": {
      "provenance": [],
      "authorship_tag": "ABX9TyNVCX7aJA+anEMgku21841l",
      "include_colab_link": true
    },
    "kernelspec": {
      "name": "python3",
      "display_name": "Python 3"
    },
    "language_info": {
      "name": "python"
    }
  },
  "cells": [
    {
      "cell_type": "markdown",
      "metadata": {
        "id": "view-in-github",
        "colab_type": "text"
      },
      "source": [
        "<a href=\"https://colab.research.google.com/github/AdindaRahajengSilviaPranesti/AdindaRahajengSP_PCVK/blob/main/MODUL_5_2141720158_AdindaRahajengSP_3ITI.ipynb\" target=\"_parent\"><img src=\"https://colab.research.google.com/assets/colab-badge.svg\" alt=\"Open In Colab\"/></a>"
      ]
    },
    {
      "cell_type": "markdown",
      "source": [
        "####**🌺ADINDA RAHAJENG SILVIA PRANESTI**\n",
        "####**🌺2141720158-02**\n",
        "####**🌺3ITI**\n",
        "####**🌺PCVK_MODUL5**"
      ],
      "metadata": {
        "id": "_0TQaO9_h1iU"
      }
    },
    {
      "cell_type": "markdown",
      "source": [
        "##**💻TUGAS PRAKTIKUM💻**\n",
        "**1. Make a Gamma Correction according to the following instructions**\n",
        "- This experiment will ask you to make a Gamma Correction. In this experiment, the Gamma value\n",
        "will be set by asking for input from the user . Below is the code to request value input from the\n",
        "user. Continue the code by creating an image with gamma correction according to the formula\n",
        "given."
      ],
      "metadata": {
        "id": "LBV59WVmjWkz"
      }
    },
    {
      "cell_type": "code",
      "source": [
        "from google.colab import drive\n",
        "drive.mount('/content/drive')"
      ],
      "metadata": {
        "colab": {
          "base_uri": "https://localhost:8080/"
        },
        "id": "IJssPpPalDgW",
        "outputId": "1c673c86-70f1-4a9c-ae33-2075421f4910"
      },
      "execution_count": 6,
      "outputs": [
        {
          "output_type": "stream",
          "name": "stdout",
          "text": [
            "Mounted at /content/drive\n"
          ]
        }
      ]
    },
    {
      "cell_type": "code",
      "source": [
        "import cv2 as cv\n",
        "from google.colab.patches import cv2_imshow\n",
        "from skimage import io\n",
        "import matplotlib.pyplot as plt\n",
        "import numpy as np\n",
        "from IPython.display import display"
      ],
      "metadata": {
        "id": "e9pXz4w-k-ua"
      },
      "execution_count": null,
      "outputs": []
    },
    {
      "cell_type": "code",
      "source": [
        "print(' Gamma Correction pada citra ')\n",
        "print('----------------------------------')\n",
        "try:\n",
        "  gamma = int(input('Masukkan nilai Gamma: '))\n",
        "except ValueError:\n",
        "  print('Error, not a number')"
      ],
      "metadata": {
        "colab": {
          "base_uri": "https://localhost:8080/"
        },
        "id": "v9fpar_ZkbF-",
        "outputId": "0f75d51e-69fb-4722-909d-08b64f2342d6"
      },
      "execution_count": 3,
      "outputs": [
        {
          "name": "stdout",
          "output_type": "stream",
          "text": [
            " Gamma Correction pada citra \n",
            "----------------------------------\n",
            "Masukkan nilai Gamma: 3\n"
          ]
        }
      ]
    },
    {
      "cell_type": "code",
      "execution_count": null,
      "metadata": {
        "id": "MI2c7F__UMzD"
      },
      "outputs": [],
      "source": []
    }
  ]
}